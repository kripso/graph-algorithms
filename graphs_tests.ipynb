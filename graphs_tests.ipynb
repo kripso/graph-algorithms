{
 "cells": [
  {
   "cell_type": "code",
   "execution_count": 1,
   "metadata": {},
   "outputs": [],
   "source": [
    "# !pip install pyvis==0.3.1\n",
    "# !pip install pyaml"
   ]
  },
  {
   "cell_type": "code",
   "execution_count": 2,
   "metadata": {},
   "outputs": [],
   "source": [
    "from typing import List, Dict, Any\n",
    "from itertools import count\n",
    "from dataclasses import dataclass, field\n",
    "from pyvis.network import Network as PyvisNetwork\n",
    "import random\n",
    "import os\n",
    "import shutil\n",
    "import yaml\n",
    "from itertools import product\n",
    "import numpy as np\n",
    "\n",
    "class Default:\n",
    "    def print(self):\n",
    "        fields = [(attribute, value) for attribute, value in self.__dict__.items()]\n",
    "        print('-'*30, f'{self.__class__.__name__}', '-'*30)\n",
    "        for field in self.__dict__.items():\n",
    "            test = field[0]\n",
    "            print(f\"{field[0]}: {field[1]}\")\n",
    "\n",
    "@dataclass()\n",
    "class Node(Default):\n",
    "    id: int = field(default_factory=lambda count_=count(): next(count_), init=False)\n",
    "    title: str = field(default_factory=str)\n",
    "    description: str = field(default_factory=str)\n",
    "    relations: List[int] = field(default_factory=list[int])\n",
    "    # relations: List['Node'] = field(default_factory=list)\n",
    "    metadata: Dict[str, Any] = field(default_factory=dict)\n",
    "\n",
    "@dataclass()\n",
    "class Edge(Default):\n",
    "    id: int = field(default_factory=lambda count_=count(): next(count_), init=False)\n",
    "    title: str = field(default_factory=str)\n",
    "    description: str = field(default_factory=str)\n",
    "    tail: 'Node' = field(default_factory='Node')\n",
    "    head: 'Node' = field(default_factory='Node')\n",
    "    # relations: List['Edge'] = field(default_factory=list)\n",
    "    metadata: Dict[str, Any] = field(default_factory=dict)\n",
    "    \n",
    "    def __post_init__(self):\n",
    "        self.tail.relations.append(self.head.id)\n",
    "        self.head.relations.append(self.tail.id)\n",
    "\n",
    "@dataclass()\n",
    "class Graph(Default):\n",
    "    nodes: List['Node'] = field(default_factory=list['Node'])\n",
    "    edges: List['Edge'] = field(default_factory=list['Edge'])\n",
    "\n",
    "    def from_yaml(self, file_path: str = './data/graphs/test_1.yaml'):\n",
    "        with open(file_path) as file:\n",
    "            loaded = yaml.load(file, Loader=yaml.FullLoader)\n",
    "            for node in loaded['NODES']:\n",
    "                self.nodes.append(Node(title=node))\n",
    "            for edge in loaded['EDGES']:\n",
    "                self.edges.append(Edge(head=self.get_node(edge.get('head')), tail=self.get_node(edge.get('tail')), title=edge.get('title')))\n",
    "\n",
    "    def get_node(self, title: str):\n",
    "        for node in self.nodes:\n",
    "            if node.title == title:\n",
    "                return node\n",
    "        return None\n",
    "\n",
    "    def from_path(self, path:str):\n",
    "        path = path.split(',')\n",
    "        self.nodes = [Node(title=name) for name in path]\n",
    "        self.edges = []\n",
    "        print(path)\n",
    "        for i in range(0, len(path) - 1):\n",
    "            self.edges.append(Edge(head=self.get_node(path[i]), tail=self.get_node(path[i+1])))\n",
    "\n",
    "    def from_adjacency_matrix(self, adj_matrix):\n",
    "        self.nodes = [Node(title=i) for i in range(len(adj_matrix))]\n",
    "        self.edges = []\n",
    "\n",
    "        for i in range(len(adj_matrix)):\n",
    "            for j in range(i+1, len(adj_matrix)):\n",
    "                if adj_matrix[i][j] == 1:\n",
    "                    self.edges.append(Edge(head=self.nodes[i], tail=self.nodes[j]))\n",
    "\n",
    "\n",
    "    def adjacency_matrix_to_yaml(self, adj_matrix, file_path):\n",
    "        nodes = [i for i in range(len(adj_matrix))]\n",
    "        edges = []\n",
    "\n",
    "        for i in range(len(adj_matrix)):\n",
    "            for j in range(i, len(adj_matrix)):\n",
    "                if adj_matrix[i][j] == 1:\n",
    "                    edges.append({'head': nodes[i], 'tail': nodes[j]})\n",
    "\n",
    "        graph_yaml = {'NODES': nodes, 'EDGES': edges}\n",
    "\n",
    "        with open(file_path, 'w') as yaml_file:\n",
    "            yaml.dump(graph_yaml, yaml_file, default_flow_style=False, sort_keys=False)\n",
    "\n",
    "\n",
    "    def save_to_html(self, filename=\"data/network.html\", proxied=False, remove_lib=False, directed=False):\n",
    "        if filename.startswith('./'):\n",
    "            filename = filename[2:]\n",
    "        if filename.startswith('/'):\n",
    "            filename = filename[1:]\n",
    "        # net = PyvisNetwork(directed=directed, width=\"1920px\", height=\"1080px\", bgcolor=\"#222222\")\n",
    "        net = PyvisNetwork(directed=directed, width=\"1920px\", height=\"1080px\", bgcolor=\"#eeeeee\")\n",
    "        proxy_address = \"https://vscode.kripso-world.com/proxy/5501\"\n",
    "        proxy_address = \"http://127.0.0.1:5500\"\n",
    "\n",
    "        for node in self.nodes:\n",
    "            hexadecimal = [\"#\"+''.join([random.choice('ABCDEF0123456789') for i in range(6)])][0]\n",
    "            net.add_node(node.id, label=str(node.title), shape=\"circle\", color=hexadecimal)\n",
    "\n",
    "        for edge in self.edges:\n",
    "            net.add_edge(edge.head.id, edge.tail.id, title=edge.title, label=edge.title)\n",
    "        net.force_atlas_2based()\n",
    "        net.repulsion(\n",
    "            node_distance=200,\n",
    "            central_gravity=0.2,\n",
    "            spring_length=100,\n",
    "            spring_strength=0.05,\n",
    "            damping=0.09\n",
    "        )\n",
    "\n",
    "        os.makedirs('./data', exist_ok=True)\n",
    "\n",
    "        net.set_edge_smooth('dynamic')\n",
    "        net.show(f\"./{filename}\")\n",
    "        \n",
    "        if remove_lib and os.path.isdir('./lib'):\n",
    "            shutil.rmtree('./lib')\n",
    "        \n",
    "        if proxied:\n",
    "            print(f\"{proxy_address}/{filename}\")\n",
    "        else:\n",
    "            print(f\"./{filename}\")"
   ]
  },
  {
   "attachments": {},
   "cell_type": "markdown",
   "metadata": {},
   "source": [
    "# calculate number of hamiltonial paths in prism graphs"
   ]
  },
  {
   "cell_type": "code",
   "execution_count": 3,
   "metadata": {},
   "outputs": [
    {
     "name": "stdout",
     "output_type": "stream",
     "text": [
      "60\n",
      "144\n",
      "260\n",
      "456\n",
      "700\n",
      "1056\n",
      "1476\n",
      "2040\n",
      "2684\n",
      "3504\n",
      "4420\n",
      "5544\n",
      "6780\n",
      "8256\n",
      "9860\n",
      "11736\n",
      "13756\n",
      "16080\n",
      "18564\n",
      "21384\n",
      "24380\n",
      "27744\n"
     ]
    }
   ],
   "source": [
    "import math\n",
    "\n",
    "for n in range(3,25,1):\n",
    "    print(4*n*(math.floor((1/2) * (n ** 2)) + 1))"
   ]
  },
  {
   "attachments": {},
   "cell_type": "markdown",
   "metadata": {},
   "source": [
    "# visualisation"
   ]
  },
  {
   "cell_type": "code",
   "execution_count": 4,
   "metadata": {},
   "outputs": [],
   "source": [
    "import os\n",
    "\n",
    "file_paths = os.listdir('../data/graphs/')\n",
    "\n",
    "def get_paths(n, k):\n",
    "    calculations = []\n",
    "    for path in file_paths:\n",
    "        with open(f\"../data/graphs/{path}\") as file:\n",
    "            loaded = yaml.load(file, Loader=yaml.FullLoader)\n",
    "            n_ = None\n",
    "            k_ = None\n",
    "            start_position = ''\n",
    "            for kwarg_ in path.split(';'):\n",
    "                kwarg_ = kwarg_.replace('.yaml', '')\n",
    "                key, value = kwarg_.split('=')\n",
    "                if key == 'n':\n",
    "                    n_ = value\n",
    "                if key == 'k':\n",
    "                    k_ = value\n",
    "                if key == 'start_position':\n",
    "                    start_position = value\n",
    "            if int(n_) == n and int(k_) == k:\n",
    "                calculations.append({'start_position': start_position,'paths': loaded['paths'], 'combinations_raw': len(loaded['paths']), 'combinations_multiplied': loaded['count']})\n",
    "    return calculations\n"
   ]
  },
  {
   "cell_type": "code",
   "execution_count": 6,
   "metadata": {},
   "outputs": [],
   "source": [
    "paths = get_paths(15,5)\n",
    "\n",
    "start_position = random.randint(0,4)\n",
    "random_path = paths[start_position]['paths'][random.randint(1, len(paths[start_position]['paths']))]"
   ]
  },
  {
   "cell_type": "code",
   "execution_count": 7,
   "metadata": {},
   "outputs": [
    {
     "name": "stdout",
     "output_type": "stream",
     "text": [
      "path lenght: 30\n",
      "hamiltonial paths: 11700\n"
     ]
    }
   ],
   "source": [
    "posible_hamiltinial_paths = 0\n",
    "for path in paths:\n",
    "    posible_hamiltinial_paths += path['combinations_multiplied']\n",
    "print('path lenght:', len(random_path.split(',')))\n",
    "print('hamiltonial paths:', posible_hamiltinial_paths)"
   ]
  },
  {
   "cell_type": "code",
   "execution_count": 9,
   "metadata": {},
   "outputs": [
    {
     "name": "stdout",
     "output_type": "stream",
     "text": [
      "['0', '15', '20', '25', '10', '9', '24', '19', '29', '14', '13', '28', '18', '23', '8', '7', '6', '5', '4', '3', '2', '1', '16', '21', '26', '11', '12', '27', '22', '17']\n",
      "http://127.0.0.1:5500/data/network.html\n"
     ]
    }
   ],
   "source": [
    "new_graph = Graph()\n",
    "new_graph.from_path(random_path)\n",
    "new_graph.save_to_html(filename='./data/network.html', directed=False, remove_lib=True, proxied=True)"
   ]
  }
 ],
 "metadata": {
  "kernelspec": {
   "display_name": "py10",
   "language": "python",
   "name": "python3"
  },
  "language_info": {
   "codemirror_mode": {
    "name": "ipython",
    "version": 3
   },
   "file_extension": ".py",
   "mimetype": "text/x-python",
   "name": "python",
   "nbconvert_exporter": "python",
   "pygments_lexer": "ipython3",
   "version": "3.10.7"
  },
  "orig_nbformat": 4,
  "vscode": {
   "interpreter": {
    "hash": "414129bc5f9fadc6aae6e1926404349d54c672fb6156a1a65104540d3f3f309d"
   }
  }
 },
 "nbformat": 4,
 "nbformat_minor": 2
}
