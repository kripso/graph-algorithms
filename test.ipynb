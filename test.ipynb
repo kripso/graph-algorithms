{
 "cells": [
  {
   "cell_type": "code",
   "execution_count": 1,
   "metadata": {},
   "outputs": [
    {
     "name": "stdout",
     "output_type": "stream",
     "text": [
      "Requirement already satisfied: pyvis==0.3.1 in /config/anaconda3/envs/py10/lib/python3.10/site-packages (0.3.1)\n",
      "Requirement already satisfied: ipython>=5.3.0 in /config/.local/lib/python3.10/site-packages (from pyvis==0.3.1) (8.10.0)\n",
      "Requirement already satisfied: networkx>=1.11 in /config/anaconda3/envs/py10/lib/python3.10/site-packages (from pyvis==0.3.1) (3.0)\n",
      "Requirement already satisfied: jsonpickle>=1.4.1 in /config/anaconda3/envs/py10/lib/python3.10/site-packages (from pyvis==0.3.1) (3.0.1)\n",
      "Requirement already satisfied: jinja2>=2.9.6 in /config/anaconda3/envs/py10/lib/python3.10/site-packages (from pyvis==0.3.1) (3.1.2)\n",
      "Requirement already satisfied: pygments>=2.4.0 in /config/.local/lib/python3.10/site-packages (from ipython>=5.3.0->pyvis==0.3.1) (2.14.0)\n",
      "Requirement already satisfied: matplotlib-inline in /config/.local/lib/python3.10/site-packages (from ipython>=5.3.0->pyvis==0.3.1) (0.1.6)\n",
      "Requirement already satisfied: pickleshare in /config/.local/lib/python3.10/site-packages (from ipython>=5.3.0->pyvis==0.3.1) (0.7.5)\n",
      "Requirement already satisfied: jedi>=0.16 in /config/.local/lib/python3.10/site-packages (from ipython>=5.3.0->pyvis==0.3.1) (0.18.2)\n",
      "Requirement already satisfied: prompt-toolkit<3.1.0,>=3.0.30 in /config/.local/lib/python3.10/site-packages (from ipython>=5.3.0->pyvis==0.3.1) (3.0.37)\n",
      "Requirement already satisfied: pexpect>4.3 in /config/.local/lib/python3.10/site-packages (from ipython>=5.3.0->pyvis==0.3.1) (4.8.0)\n",
      "Requirement already satisfied: traitlets>=5 in /config/.local/lib/python3.10/site-packages (from ipython>=5.3.0->pyvis==0.3.1) (5.9.0)\n",
      "Requirement already satisfied: decorator in /config/.local/lib/python3.10/site-packages (from ipython>=5.3.0->pyvis==0.3.1) (5.1.1)\n",
      "Requirement already satisfied: backcall in /config/.local/lib/python3.10/site-packages (from ipython>=5.3.0->pyvis==0.3.1) (0.2.0)\n",
      "Requirement already satisfied: stack-data in /config/.local/lib/python3.10/site-packages (from ipython>=5.3.0->pyvis==0.3.1) (0.6.2)\n",
      "Requirement already satisfied: MarkupSafe>=2.0 in /config/anaconda3/envs/py10/lib/python3.10/site-packages (from jinja2>=2.9.6->pyvis==0.3.1) (2.1.1)\n",
      "Requirement already satisfied: parso<0.9.0,>=0.8.0 in /config/.local/lib/python3.10/site-packages (from jedi>=0.16->ipython>=5.3.0->pyvis==0.3.1) (0.8.3)\n",
      "Requirement already satisfied: ptyprocess>=0.5 in /config/.local/lib/python3.10/site-packages (from pexpect>4.3->ipython>=5.3.0->pyvis==0.3.1) (0.7.0)\n",
      "Requirement already satisfied: wcwidth in /config/.local/lib/python3.10/site-packages (from prompt-toolkit<3.1.0,>=3.0.30->ipython>=5.3.0->pyvis==0.3.1) (0.2.6)\n",
      "Requirement already satisfied: executing>=1.2.0 in /config/.local/lib/python3.10/site-packages (from stack-data->ipython>=5.3.0->pyvis==0.3.1) (1.2.0)\n",
      "Requirement already satisfied: asttokens>=2.1.0 in /config/.local/lib/python3.10/site-packages (from stack-data->ipython>=5.3.0->pyvis==0.3.1) (2.2.1)\n",
      "Requirement already satisfied: pure-eval in /config/.local/lib/python3.10/site-packages (from stack-data->ipython>=5.3.0->pyvis==0.3.1) (0.2.2)\n",
      "Requirement already satisfied: six in /config/.local/lib/python3.10/site-packages (from asttokens>=2.1.0->stack-data->ipython>=5.3.0->pyvis==0.3.1) (1.16.0)\n",
      "Collecting pyaml\n",
      "  Downloading pyaml-21.10.1-py2.py3-none-any.whl (24 kB)\n",
      "Requirement already satisfied: PyYAML in /config/anaconda3/envs/py10/lib/python3.10/site-packages (from pyaml) (6.0)\n",
      "Installing collected packages: pyaml\n",
      "Successfully installed pyaml-21.10.1\n"
     ]
    }
   ],
   "source": [
    "!pip install pyvis==0.3.1\n",
    "!pip install pyaml"
   ]
  },
  {
   "cell_type": "code",
   "execution_count": 27,
   "metadata": {},
   "outputs": [],
   "source": [
    "import yaml\n",
    "\n",
    "with open('./data/test.yaml') as file:\n",
    "    loaded = yaml.load(file, Loader=yaml.FullLoader)"
   ]
  },
  {
   "cell_type": "code",
   "execution_count": 28,
   "metadata": {},
   "outputs": [
    {
     "name": "stdout",
     "output_type": "stream",
     "text": [
      "('receipt', 'Oz-Ware Purchase Invoice')\n",
      "('date', datetime.date(2012, 8, 6))\n",
      "('customer', {'first_name': 'Dorothy', 'family_name': 'Gale'})\n",
      "('items', [{'part_no': 'A4786', 'descrip': 'Water Bucket (Filled)', 'price': 1.47, 'quantity': 4}, {'part_no': 'E1628', 'descrip': 'High Heeled \"Ruby\" Slippers', 'size': 8, 'price': 133.7, 'quantity': 1}])\n",
      "('items_0', [['items_2'], ['a', 'b', 'c']])\n",
      "('bill-to', {'street': '123 Tornado Alley\\nSuite 16\\n', 'city': 'East Centerville', 'state': 'KS'})\n",
      "('ship-to', {'street': '123 Tornado Alley\\nSuite 16\\n', 'city': 'East Centerville', 'state': 'KS'})\n",
      "('specialDelivery', 'Follow the Yellow Brick Road to the Emerald City. Pay no attention to the man behind the curtain.')\n"
     ]
    }
   ],
   "source": [
    "for item in loaded.items():\n",
    "    print(item)\n",
    "# loaded.keys()"
   ]
  },
  {
   "cell_type": "code",
   "execution_count": 39,
   "metadata": {},
   "outputs": [],
   "source": [
    "from typing import List, Dict, Any\n",
    "from itertools import count\n",
    "from dataclasses import dataclass, field\n",
    "from pyvis.network import Network as PyvisNetwork\n",
    "import random\n",
    "import os\n",
    "import shutil\n",
    "import yaml\n",
    "\n",
    "\n",
    "class Default:\n",
    "    def print(self):\n",
    "        fields = [(attribute, value) for attribute, value in self.__dict__.items()]\n",
    "        print('-'*30, f'{self.__class__.__name__}', '-'*30)\n",
    "        for field in self.__dict__.items():\n",
    "            test = field[0]\n",
    "            print(f\"{field[0]}: {field[1]}\")\n",
    "\n",
    "@dataclass()\n",
    "class Node(Default):\n",
    "    id: int = field(default_factory=lambda count_=count(): next(count_), init=False)\n",
    "    title: str = field(default_factory=str)\n",
    "    description: str = field(default_factory=str)\n",
    "    relations: List[int] = field(default_factory=list[int])\n",
    "    # relations: List['Node'] = field(default_factory=list)\n",
    "    metadata: Dict[str, Any] = field(default_factory=dict)\n",
    "\n",
    "@dataclass()\n",
    "class Edge(Default):\n",
    "    id: int = field(default_factory=lambda count_=count(): next(count_), init=False)\n",
    "    title: str = field(default_factory=str)\n",
    "    description: str = field(default_factory=str)\n",
    "    tail: 'Node' = field(default_factory='Node')\n",
    "    head: 'Node' = field(default_factory='Node')\n",
    "    # relations: List['Edge'] = field(default_factory=list)\n",
    "    metadata: Dict[str, Any] = field(default_factory=dict)\n",
    "    \n",
    "    def __post_init__(self):\n",
    "        self.tail.relations.append(self.head.id)\n",
    "        self.head.relations.append(self.tail.id)\n",
    "\n",
    "@dataclass()\n",
    "class Graph(Default):\n",
    "    nodes: List['Node'] = field(default_factory=list['Node'])\n",
    "    edges: List['Edge'] = field(default_factory=list['Edge'])\n",
    "\n",
    "    def from_yaml(self, file_path: str = './data/graphs/test_0.yaml'):\n",
    "        with open(file_path) as file:\n",
    "            loaded = yaml.load(file, Loader=yaml.FullLoader)\n",
    "            for node in loaded['NODES']:\n",
    "                self.nodes.append(Node(title=node))\n",
    "            for edge in loaded['EDGES']:\n",
    "                self.edges.append(Edge(head=self.get_node(edge.get('head')), tail=self.get_node(edge.get('tail')), title=edge.get('title')))\n",
    "\n",
    "    def get_node(self, title: str):\n",
    "        for node in self.nodes:\n",
    "            if node.title == title:\n",
    "                return node\n",
    "        return None\n",
    "    def save_to_html(self, filename=\"data/network.html\", proxied=True, remove_lib=False, directed=False):\n",
    "        if filename.startswith('./'):\n",
    "            filename = filename[2:]\n",
    "        if filename.startswith('/'):\n",
    "            filename = filename[1:]\n",
    "        # net = PyvisNetwork(directed=directed, width=\"1920px\", height=\"1080px\", bgcolor=\"#222222\")\n",
    "        net = PyvisNetwork(directed=directed, width=\"1920px\", height=\"1080px\", bgcolor=\"#eeeeee\")\n",
    "        proxy_address = \"https://vscode.kripso-world.com/proxy/5501\"\n",
    "\n",
    "        for node in self.nodes:\n",
    "            hexadecimal = [\"#\"+''.join([random.choice('ABCDEF0123456789') for i in range(6)])][0]\n",
    "            net.add_node(node.id, label=node.title, shape=\"circle\", color=hexadecimal)\n",
    "\n",
    "        for edge in self.edges:\n",
    "            net.add_edge(edge.head.id, edge.tail.id, title=edge.title, label=edge.title)\n",
    "        net.force_atlas_2based()\n",
    "        net.repulsion(\n",
    "            node_distance=200,\n",
    "            central_gravity=0.2,\n",
    "            spring_length=100,\n",
    "            spring_strength=0.05,\n",
    "            damping=0.09\n",
    "        )\n",
    "\n",
    "        os.makedirs('./data', exist_ok=True)\n",
    "\n",
    "        net.set_edge_smooth('dynamic')\n",
    "        net.show(f\"./{filename}\")\n",
    "        \n",
    "        if remove_lib and os.path.isdir('./lib'):\n",
    "            shutil.rmtree('./lib')\n",
    "        \n",
    "        if proxied:\n",
    "            print(f\"{proxy_address}/{filename}\")\n",
    "        else:\n",
    "            print(f\"./{filename}\")"
   ]
  },
  {
   "cell_type": "code",
   "execution_count": 35,
   "metadata": {},
   "outputs": [
    {
     "name": "stdout",
     "output_type": "stream",
     "text": [
      "https://vscode.kripso-world.com/proxy/5501/data/network.html\n"
     ]
    }
   ],
   "source": [
    "nodes = [Node(title=f'test_{i}') for i in range(10)]\n",
    "edges = [Edge(title=f'test_{i}', tail=random.choice(nodes), head=random.choice(nodes)) for i in range(20)]\n",
    "\n",
    "graph = Graph(\n",
    "    nodes=nodes,\n",
    "    edges=edges,\n",
    ")\n",
    "\n",
    "graph.save_to_html(filename='./data/network.html', directed=True, remove_lib=True)"
   ]
  },
  {
   "cell_type": "code",
   "execution_count": 45,
   "metadata": {},
   "outputs": [
    {
     "name": "stdout",
     "output_type": "stream",
     "text": [
      "https://vscode.kripso-world.com/proxy/5501/data/network.html\n"
     ]
    }
   ],
   "source": [
    "new_graph = Graph()\n",
    "new_graph.from_yaml()\n",
    "new_graph.save_to_html(filename='./data/network.html', directed=True, remove_lib=True)"
   ]
  }
 ],
 "metadata": {
  "kernelspec": {
   "display_name": "py10",
   "language": "python",
   "name": "python3"
  },
  "language_info": {
   "codemirror_mode": {
    "name": "ipython",
    "version": 3
   },
   "file_extension": ".py",
   "mimetype": "text/x-python",
   "name": "python",
   "nbconvert_exporter": "python",
   "pygments_lexer": "ipython3",
   "version": "3.10.8 (main, Nov 24 2022, 14:13:03) [GCC 11.2.0]"
  },
  "orig_nbformat": 4,
  "vscode": {
   "interpreter": {
    "hash": "414129bc5f9fadc6aae6e1926404349d54c672fb6156a1a65104540d3f3f309d"
   }
  }
 },
 "nbformat": 4,
 "nbformat_minor": 2
}
